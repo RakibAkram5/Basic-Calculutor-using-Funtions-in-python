{
 "cells": [
  {
   "cell_type": "code",
   "execution_count": 2,
   "metadata": {},
   "outputs": [],
   "source": [
    "def add(a, b):\n",
    "    return a + b"
   ]
  },
  {
   "cell_type": "code",
   "execution_count": 3,
   "metadata": {},
   "outputs": [],
   "source": [
    "def subtract(a, b):\n",
    "    return a - b"
   ]
  },
  {
   "cell_type": "code",
   "execution_count": 4,
   "metadata": {},
   "outputs": [],
   "source": [
    "def multiply(a, b):\n",
    "    return a * b"
   ]
  },
  {
   "cell_type": "code",
   "execution_count": 5,
   "metadata": {},
   "outputs": [],
   "source": [
    "def divide(a, b):\n",
    "    if b == 0:\n",
    "        return \"Error! Division by 0\"\n",
    "    return a / b"
   ]
  },
  {
   "cell_type": "code",
   "execution_count": 6,
   "metadata": {},
   "outputs": [],
   "source": [
    "def exponent(a, b):\n",
    "    return a ** b\n",
    "\n",
    "def modulus(a, b):\n",
    "    if b == 0:\n",
    "        return \"Error! Modulus by 0\"\n",
    "    return a % b\n"
   ]
  },
  {
   "cell_type": "code",
   "execution_count": 7,
   "metadata": {},
   "outputs": [],
   "source": [
    "def getNumber(prompt):\n",
    "    while True:\n",
    "        try:\n",
    "            number = float(input(prompt))\n",
    "            return number\n",
    "        except ValueError:\n",
    "            print(\"Invalid input. Please enter a numeric value.\")\n"
   ]
  },
  {
   "cell_type": "code",
   "execution_count": 8,
   "metadata": {},
   "outputs": [
    {
     "name": "stdout",
     "output_type": "stream",
     "text": [
      "Welcome to the Calculator\n",
      "\n",
      "Please select an operation:\n",
      "1. Addition (+)\n",
      "2. Subtraction (-)\n",
      "3. Multiplication (*)\n",
      "4. Division (/)\n",
      "5. Exponentiation (^)\n",
      "6. Modulus (%)\n",
      "7. Exit\n",
      "\n",
      "Result: 5.0 ^ 8.0 = 390625.0\n",
      "\n",
      "Please select an operation:\n",
      "1. Addition (+)\n",
      "2. Subtraction (-)\n",
      "3. Multiplication (*)\n",
      "4. Division (/)\n",
      "5. Exponentiation (^)\n",
      "6. Modulus (%)\n",
      "7. Exit\n",
      "Thank you for using the calculator. Goodbye!\n"
     ]
    }
   ],
   "source": [
    "def calculator():\n",
    "    \"\"\"Main function to run the Calculator\"\"\"\n",
    "    print(\"Welcome to the Calculator\")\n",
    "    while True:\n",
    "        print(\"\\nPlease select an operation:\")\n",
    "        print(\"1. Addition (+)\")\n",
    "        print(\"2. Subtraction (-)\")\n",
    "        print(\"3. Multiplication (*)\")\n",
    "        print(\"4. Division (/)\")\n",
    "        print(\"5. Exponentiation (^)\")\n",
    "        print(\"6. Modulus (%)\")\n",
    "        print(\"7. Exit\")\n",
    "        \n",
    "        choice = input(\"Enter your choice (1-7): \")\n",
    "\n",
    "        if choice == '7':\n",
    "            print(\"Thank you for using the calculator. Goodbye!\")\n",
    "            break\n",
    "\n",
    "        if choice in ['1', '2', '3', '4', '5', '6']:\n",
    "            num1 = getNumber(\"Enter the first number: \")\n",
    "            num2 = getNumber(\"Enter the second number: \")\n",
    "\n",
    "            if choice == '1':\n",
    "                result = add(num1, num2)\n",
    "                operation = '+'\n",
    "            elif choice == '2':\n",
    "                result = subtract(num1, num2)\n",
    "                operation = '-'\n",
    "            elif choice == '3':\n",
    "                result = multiply(num1, num2)\n",
    "                operation = '*'\n",
    "            elif choice == '4':\n",
    "                result = divide(num1, num2)\n",
    "                operation = '/'\n",
    "            elif choice == '5':\n",
    "                result = exponent(num1, num2)\n",
    "                operation = '^'\n",
    "            elif choice == '6':\n",
    "                result = modulus(num1, num2)\n",
    "                operation = '%'\n",
    "\n",
    "            print(f\"\\nResult: {num1} {operation} {num2} = {result}\")\n",
    "        else:\n",
    "            print(\"Invalid choice. Please select a valid operation.\")\n",
    "\n",
    "if __name__ == \"__main__\":\n",
    "    calculator()\n"
   ]
  }
 ],
 "metadata": {
  "kernelspec": {
   "display_name": "Python 3",
   "language": "python",
   "name": "python3"
  },
  "language_info": {
   "codemirror_mode": {
    "name": "ipython",
    "version": 3
   },
   "file_extension": ".py",
   "mimetype": "text/x-python",
   "name": "python",
   "nbconvert_exporter": "python",
   "pygments_lexer": "ipython3",
   "version": "3.12.6"
  }
 },
 "nbformat": 4,
 "nbformat_minor": 2
}
